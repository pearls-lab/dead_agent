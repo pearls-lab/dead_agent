{
 "cells": [
  {
   "cell_type": "code",
   "execution_count": 7,
   "metadata": {},
   "outputs": [
    {
     "data": {
      "text/plain": [
       "['dqn_episode_lengths_run3.txt',\n",
       " 'dqn_buffer_diversity.txt',\n",
       " 'dqn_training_buffer_diversity_run1.txt',\n",
       " 'dqn_training_buffer_diversity_run0.txt',\n",
       " 'dqn_run1_buffer_diversity.txt',\n",
       " 'dqn_episode_rewards_run4.txt',\n",
       " 'dqn_episode_rewards_run2.txt',\n",
       " 'dqn_episode_lengths_run0.txt',\n",
       " 'dqn_run2_buffer_diversity.txt',\n",
       " 'dqn_episode_rewards.txt',\n",
       " 'dqn_training_loss_run1.txt',\n",
       " 'dqn_training_loss_run0.txt',\n",
       " 'dqn_episode_rewards_run1.txt',\n",
       " 'dqn_episode_lengths.txt',\n",
       " 'dqn_episode_lengths_run1.txt',\n",
       " 'dqn_episode_lengths_run4.txt',\n",
       " 'dqn_run4_buffer_diversity.txt',\n",
       " 'dqn_training_loss_run3.txt',\n",
       " 'dqn_run3_buffer_diversity.txt',\n",
       " 'dqn_episode_rewards_run3.txt',\n",
       " 'dqn_episode_rewards_run0.txt',\n",
       " 'dqn_run0_buffer_diversity.txt',\n",
       " 'dqn_training_loss_run4.txt',\n",
       " 'dqn_episode_lengths_run2.txt',\n",
       " 'dqn_training_buffer_diversity_run2.txt',\n",
       " 'dqn_training_loss_run2.txt',\n",
       " 'dqn_training_buffer_diversity_run3.txt',\n",
       " 'dqn_training_buffer_diversity_run4.txt']"
      ]
     },
     "execution_count": 7,
     "metadata": {},
     "output_type": "execute_result"
    }
   ],
   "source": [
    "import os\n",
    "\n",
    "def list_folders(directory):\n",
    "    try:\n",
    "        # List all items in the directory\n",
    "        items = os.listdir(directory)\n",
    "        # Filter only folders\n",
    "        return [item for item in items if os.path.isdir(os.path.join(directory, item))]\n",
    "    except FileNotFoundError:\n",
    "        print(f\"The directory '{directory}' does not exist.\")\n",
    "    except PermissionError:\n",
    "        print(f\"Permission denied to access '{directory}'.\")\n",
    "\n",
    "def list_files(directory):\n",
    "    try:\n",
    "        # List all items in the directory\n",
    "        items = os.listdir(directory)\n",
    "        # Filter only files\n",
    "        return [item for item in items if os.path.isfile(os.path.join(directory, item)) and '.txt' in item]\n",
    "    except FileNotFoundError:\n",
    "        print(f\"The directory '{directory}' does not exist.\")\n",
    "    except PermissionError:\n",
    "        print(f\"Permission denied to access '{directory}'.\")\n",
    "\n",
    "\n",
    "directory_path = \"/root/home/gridworld/graphs/two_wall\"\n",
    "runs = list_folders(directory_path)\n",
    "list_files(directory_path + \"/\" + runs[0])"
   ]
  },
  {
   "cell_type": "code",
   "execution_count": null,
   "metadata": {},
   "outputs": [],
   "source": []
  }
 ],
 "metadata": {
  "kernelspec": {
   "display_name": "Python 3",
   "language": "python",
   "name": "python3"
  },
  "language_info": {
   "codemirror_mode": {
    "name": "ipython",
    "version": 3
   },
   "file_extension": ".py",
   "mimetype": "text/x-python",
   "name": "python",
   "nbconvert_exporter": "python",
   "pygments_lexer": "ipython3",
   "version": "3.11.1"
  }
 },
 "nbformat": 4,
 "nbformat_minor": 2
}
